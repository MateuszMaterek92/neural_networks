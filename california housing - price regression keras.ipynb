{
 "cells": [
  {
   "cell_type": "code",
   "execution_count": 10,
   "id": "abc6c34c",
   "metadata": {},
   "outputs": [
    {
     "data": {
      "text/plain": [
       "'2.3.0'"
      ]
     },
     "execution_count": 10,
     "metadata": {},
     "output_type": "execute_result"
    }
   ],
   "source": [
    "#california housing\n",
    "import numpy as np\n",
    "import pandas as pd\n",
    "import seaborn as sns\n",
    "import tensorflow as tf\n",
    "from tensorflow.keras.models import Sequential\n",
    "from tensorflow.keras.layers import Dense, Dropout\n",
    "from tensorflow.keras.callbacks import EarlyStopping\n",
    "\n",
    "np.set_printoptions(precision=12, suppress=True, linewidth=150)\n",
    "pd.options.display.float_format = '{:.6f}'.format\n",
    "tf.__version__"
   ]
  },
  {
   "cell_type": "code",
   "execution_count": 11,
   "id": "26c44f3c",
   "metadata": {},
   "outputs": [
    {
     "data": {
      "text/html": [
       "<div>\n",
       "<style scoped>\n",
       "    .dataframe tbody tr th:only-of-type {\n",
       "        vertical-align: middle;\n",
       "    }\n",
       "\n",
       "    .dataframe tbody tr th {\n",
       "        vertical-align: top;\n",
       "    }\n",
       "\n",
       "    .dataframe thead th {\n",
       "        text-align: right;\n",
       "    }\n",
       "</style>\n",
       "<table border=\"1\" class=\"dataframe\">\n",
       "  <thead>\n",
       "    <tr style=\"text-align: right;\">\n",
       "      <th></th>\n",
       "      <th>longitude</th>\n",
       "      <th>latitude</th>\n",
       "      <th>housing_median_age</th>\n",
       "      <th>total_rooms</th>\n",
       "      <th>total_bedrooms</th>\n",
       "      <th>population</th>\n",
       "      <th>households</th>\n",
       "      <th>median_income</th>\n",
       "      <th>median_house_value</th>\n",
       "      <th>ocean_proximity</th>\n",
       "    </tr>\n",
       "  </thead>\n",
       "  <tbody>\n",
       "    <tr>\n",
       "      <th>0</th>\n",
       "      <td>-122.230000</td>\n",
       "      <td>37.880000</td>\n",
       "      <td>41.000000</td>\n",
       "      <td>880.000000</td>\n",
       "      <td>129.000000</td>\n",
       "      <td>322.000000</td>\n",
       "      <td>126.000000</td>\n",
       "      <td>8.325200</td>\n",
       "      <td>452600.000000</td>\n",
       "      <td>NEAR BAY</td>\n",
       "    </tr>\n",
       "    <tr>\n",
       "      <th>1</th>\n",
       "      <td>-122.220000</td>\n",
       "      <td>37.860000</td>\n",
       "      <td>21.000000</td>\n",
       "      <td>7099.000000</td>\n",
       "      <td>1106.000000</td>\n",
       "      <td>2401.000000</td>\n",
       "      <td>1138.000000</td>\n",
       "      <td>8.301400</td>\n",
       "      <td>358500.000000</td>\n",
       "      <td>NEAR BAY</td>\n",
       "    </tr>\n",
       "    <tr>\n",
       "      <th>2</th>\n",
       "      <td>-122.240000</td>\n",
       "      <td>37.850000</td>\n",
       "      <td>52.000000</td>\n",
       "      <td>1467.000000</td>\n",
       "      <td>190.000000</td>\n",
       "      <td>496.000000</td>\n",
       "      <td>177.000000</td>\n",
       "      <td>7.257400</td>\n",
       "      <td>352100.000000</td>\n",
       "      <td>NEAR BAY</td>\n",
       "    </tr>\n",
       "    <tr>\n",
       "      <th>3</th>\n",
       "      <td>-122.250000</td>\n",
       "      <td>37.850000</td>\n",
       "      <td>52.000000</td>\n",
       "      <td>1274.000000</td>\n",
       "      <td>235.000000</td>\n",
       "      <td>558.000000</td>\n",
       "      <td>219.000000</td>\n",
       "      <td>5.643100</td>\n",
       "      <td>341300.000000</td>\n",
       "      <td>NEAR BAY</td>\n",
       "    </tr>\n",
       "    <tr>\n",
       "      <th>4</th>\n",
       "      <td>-122.250000</td>\n",
       "      <td>37.850000</td>\n",
       "      <td>52.000000</td>\n",
       "      <td>1627.000000</td>\n",
       "      <td>280.000000</td>\n",
       "      <td>565.000000</td>\n",
       "      <td>259.000000</td>\n",
       "      <td>3.846200</td>\n",
       "      <td>342200.000000</td>\n",
       "      <td>NEAR BAY</td>\n",
       "    </tr>\n",
       "  </tbody>\n",
       "</table>\n",
       "</div>"
      ],
      "text/plain": [
       "    longitude  latitude  housing_median_age  total_rooms  total_bedrooms  \\\n",
       "0 -122.230000 37.880000           41.000000   880.000000      129.000000   \n",
       "1 -122.220000 37.860000           21.000000  7099.000000     1106.000000   \n",
       "2 -122.240000 37.850000           52.000000  1467.000000      190.000000   \n",
       "3 -122.250000 37.850000           52.000000  1274.000000      235.000000   \n",
       "4 -122.250000 37.850000           52.000000  1627.000000      280.000000   \n",
       "\n",
       "   population  households  median_income  median_house_value ocean_proximity  \n",
       "0  322.000000  126.000000       8.325200       452600.000000        NEAR BAY  \n",
       "1 2401.000000 1138.000000       8.301400       358500.000000        NEAR BAY  \n",
       "2  496.000000  177.000000       7.257400       352100.000000        NEAR BAY  \n",
       "3  558.000000  219.000000       5.643100       341300.000000        NEAR BAY  \n",
       "4  565.000000  259.000000       3.846200       342200.000000        NEAR BAY  "
      ]
     },
     "execution_count": 11,
     "metadata": {},
     "output_type": "execute_result"
    }
   ],
   "source": [
    "dataset = pd.read_csv('https://storage.googleapis.com/esmartdata-courses-files/ann-course/housing.csv')\n",
    "dataset.head()"
   ]
  },
  {
   "cell_type": "code",
   "execution_count": 12,
   "id": "57a7a530",
   "metadata": {},
   "outputs": [
    {
     "name": "stdout",
     "output_type": "stream",
     "text": [
      "<class 'pandas.core.frame.DataFrame'>\n",
      "RangeIndex: 20640 entries, 0 to 20639\n",
      "Data columns (total 10 columns):\n",
      " #   Column              Non-Null Count  Dtype  \n",
      "---  ------              --------------  -----  \n",
      " 0   longitude           20640 non-null  float64\n",
      " 1   latitude            20640 non-null  float64\n",
      " 2   housing_median_age  20640 non-null  float64\n",
      " 3   total_rooms         20640 non-null  float64\n",
      " 4   total_bedrooms      20433 non-null  float64\n",
      " 5   population          20640 non-null  float64\n",
      " 6   households          20640 non-null  float64\n",
      " 7   median_income       20640 non-null  float64\n",
      " 8   median_house_value  20640 non-null  float64\n",
      " 9   ocean_proximity     20640 non-null  object \n",
      "dtypes: float64(9), object(1)\n",
      "memory usage: 1.6+ MB\n"
     ]
    }
   ],
   "source": [
    "dataset.info()"
   ]
  },
  {
   "cell_type": "code",
   "execution_count": 13,
   "id": "e2fad868",
   "metadata": {},
   "outputs": [
    {
     "data": {
      "text/plain": [
       "longitude            0.000000\n",
       "latitude             0.000000\n",
       "housing_median_age   0.000000\n",
       "total_rooms          0.000000\n",
       "total_bedrooms       0.010029\n",
       "population           0.000000\n",
       "households           0.000000\n",
       "median_income        0.000000\n",
       "median_house_value   0.000000\n",
       "ocean_proximity      0.000000\n",
       "dtype: float64"
      ]
     },
     "execution_count": 13,
     "metadata": {},
     "output_type": "execute_result"
    }
   ],
   "source": [
    "dataset.isnull().sum() / len(dataset)"
   ]
  },
  {
   "cell_type": "code",
   "execution_count": 14,
   "id": "6e36cb0f",
   "metadata": {},
   "outputs": [
    {
     "data": {
      "text/plain": [
       "longitude            0.000000\n",
       "latitude             0.000000\n",
       "housing_median_age   0.000000\n",
       "total_rooms          0.000000\n",
       "total_bedrooms       0.000000\n",
       "population           0.000000\n",
       "households           0.000000\n",
       "median_income        0.000000\n",
       "median_house_value   0.000000\n",
       "ocean_proximity      0.000000\n",
       "dtype: float64"
      ]
     },
     "execution_count": 14,
     "metadata": {},
     "output_type": "execute_result"
    }
   ],
   "source": [
    "dataset.dropna(inplace=True)\n",
    "\n",
    "dataset.isnull().sum() / len(dataset)"
   ]
  },
  {
   "cell_type": "code",
   "execution_count": 15,
   "id": "37d762bd",
   "metadata": {},
   "outputs": [
    {
     "data": {
      "text/html": [
       "<div>\n",
       "<style scoped>\n",
       "    .dataframe tbody tr th:only-of-type {\n",
       "        vertical-align: middle;\n",
       "    }\n",
       "\n",
       "    .dataframe tbody tr th {\n",
       "        vertical-align: top;\n",
       "    }\n",
       "\n",
       "    .dataframe thead th {\n",
       "        text-align: right;\n",
       "    }\n",
       "</style>\n",
       "<table border=\"1\" class=\"dataframe\">\n",
       "  <thead>\n",
       "    <tr style=\"text-align: right;\">\n",
       "      <th></th>\n",
       "      <th>longitude</th>\n",
       "      <th>latitude</th>\n",
       "      <th>housing_median_age</th>\n",
       "      <th>total_rooms</th>\n",
       "      <th>total_bedrooms</th>\n",
       "      <th>population</th>\n",
       "      <th>households</th>\n",
       "      <th>median_income</th>\n",
       "      <th>median_house_value</th>\n",
       "    </tr>\n",
       "  </thead>\n",
       "  <tbody>\n",
       "    <tr>\n",
       "      <th>count</th>\n",
       "      <td>20433.000000</td>\n",
       "      <td>20433.000000</td>\n",
       "      <td>20433.000000</td>\n",
       "      <td>20433.000000</td>\n",
       "      <td>20433.000000</td>\n",
       "      <td>20433.000000</td>\n",
       "      <td>20433.000000</td>\n",
       "      <td>20433.000000</td>\n",
       "      <td>20433.000000</td>\n",
       "    </tr>\n",
       "    <tr>\n",
       "      <th>mean</th>\n",
       "      <td>-119.570689</td>\n",
       "      <td>35.633221</td>\n",
       "      <td>28.633094</td>\n",
       "      <td>2636.504233</td>\n",
       "      <td>537.870553</td>\n",
       "      <td>1424.946949</td>\n",
       "      <td>499.433465</td>\n",
       "      <td>3.871162</td>\n",
       "      <td>206864.413155</td>\n",
       "    </tr>\n",
       "    <tr>\n",
       "      <th>std</th>\n",
       "      <td>2.003578</td>\n",
       "      <td>2.136348</td>\n",
       "      <td>12.591805</td>\n",
       "      <td>2185.269567</td>\n",
       "      <td>421.385070</td>\n",
       "      <td>1133.208490</td>\n",
       "      <td>382.299226</td>\n",
       "      <td>1.899291</td>\n",
       "      <td>115435.667099</td>\n",
       "    </tr>\n",
       "    <tr>\n",
       "      <th>min</th>\n",
       "      <td>-124.350000</td>\n",
       "      <td>32.540000</td>\n",
       "      <td>1.000000</td>\n",
       "      <td>2.000000</td>\n",
       "      <td>1.000000</td>\n",
       "      <td>3.000000</td>\n",
       "      <td>1.000000</td>\n",
       "      <td>0.499900</td>\n",
       "      <td>14999.000000</td>\n",
       "    </tr>\n",
       "    <tr>\n",
       "      <th>25%</th>\n",
       "      <td>-121.800000</td>\n",
       "      <td>33.930000</td>\n",
       "      <td>18.000000</td>\n",
       "      <td>1450.000000</td>\n",
       "      <td>296.000000</td>\n",
       "      <td>787.000000</td>\n",
       "      <td>280.000000</td>\n",
       "      <td>2.563700</td>\n",
       "      <td>119500.000000</td>\n",
       "    </tr>\n",
       "    <tr>\n",
       "      <th>50%</th>\n",
       "      <td>-118.490000</td>\n",
       "      <td>34.260000</td>\n",
       "      <td>29.000000</td>\n",
       "      <td>2127.000000</td>\n",
       "      <td>435.000000</td>\n",
       "      <td>1166.000000</td>\n",
       "      <td>409.000000</td>\n",
       "      <td>3.536500</td>\n",
       "      <td>179700.000000</td>\n",
       "    </tr>\n",
       "    <tr>\n",
       "      <th>75%</th>\n",
       "      <td>-118.010000</td>\n",
       "      <td>37.720000</td>\n",
       "      <td>37.000000</td>\n",
       "      <td>3143.000000</td>\n",
       "      <td>647.000000</td>\n",
       "      <td>1722.000000</td>\n",
       "      <td>604.000000</td>\n",
       "      <td>4.744000</td>\n",
       "      <td>264700.000000</td>\n",
       "    </tr>\n",
       "    <tr>\n",
       "      <th>max</th>\n",
       "      <td>-114.310000</td>\n",
       "      <td>41.950000</td>\n",
       "      <td>52.000000</td>\n",
       "      <td>39320.000000</td>\n",
       "      <td>6445.000000</td>\n",
       "      <td>35682.000000</td>\n",
       "      <td>6082.000000</td>\n",
       "      <td>15.000100</td>\n",
       "      <td>500001.000000</td>\n",
       "    </tr>\n",
       "  </tbody>\n",
       "</table>\n",
       "</div>"
      ],
      "text/plain": [
       "         longitude     latitude  housing_median_age  total_rooms  \\\n",
       "count 20433.000000 20433.000000        20433.000000 20433.000000   \n",
       "mean   -119.570689    35.633221           28.633094  2636.504233   \n",
       "std       2.003578     2.136348           12.591805  2185.269567   \n",
       "min    -124.350000    32.540000            1.000000     2.000000   \n",
       "25%    -121.800000    33.930000           18.000000  1450.000000   \n",
       "50%    -118.490000    34.260000           29.000000  2127.000000   \n",
       "75%    -118.010000    37.720000           37.000000  3143.000000   \n",
       "max    -114.310000    41.950000           52.000000 39320.000000   \n",
       "\n",
       "       total_bedrooms   population   households  median_income  \\\n",
       "count    20433.000000 20433.000000 20433.000000   20433.000000   \n",
       "mean       537.870553  1424.946949   499.433465       3.871162   \n",
       "std        421.385070  1133.208490   382.299226       1.899291   \n",
       "min          1.000000     3.000000     1.000000       0.499900   \n",
       "25%        296.000000   787.000000   280.000000       2.563700   \n",
       "50%        435.000000  1166.000000   409.000000       3.536500   \n",
       "75%        647.000000  1722.000000   604.000000       4.744000   \n",
       "max       6445.000000 35682.000000  6082.000000      15.000100   \n",
       "\n",
       "       median_house_value  \n",
       "count        20433.000000  \n",
       "mean        206864.413155  \n",
       "std         115435.667099  \n",
       "min          14999.000000  \n",
       "25%         119500.000000  \n",
       "50%         179700.000000  \n",
       "75%         264700.000000  \n",
       "max         500001.000000  "
      ]
     },
     "execution_count": 15,
     "metadata": {},
     "output_type": "execute_result"
    }
   ],
   "source": [
    "dataset.describe()"
   ]
  },
  {
   "cell_type": "code",
   "execution_count": 16,
   "id": "3ddbe001",
   "metadata": {},
   "outputs": [
    {
     "data": {
      "text/html": [
       "<div>\n",
       "<style scoped>\n",
       "    .dataframe tbody tr th:only-of-type {\n",
       "        vertical-align: middle;\n",
       "    }\n",
       "\n",
       "    .dataframe tbody tr th {\n",
       "        vertical-align: top;\n",
       "    }\n",
       "\n",
       "    .dataframe thead th {\n",
       "        text-align: right;\n",
       "    }\n",
       "</style>\n",
       "<table border=\"1\" class=\"dataframe\">\n",
       "  <thead>\n",
       "    <tr style=\"text-align: right;\">\n",
       "      <th></th>\n",
       "      <th>ocean_proximity</th>\n",
       "    </tr>\n",
       "  </thead>\n",
       "  <tbody>\n",
       "    <tr>\n",
       "      <th>count</th>\n",
       "      <td>20433</td>\n",
       "    </tr>\n",
       "    <tr>\n",
       "      <th>unique</th>\n",
       "      <td>5</td>\n",
       "    </tr>\n",
       "    <tr>\n",
       "      <th>top</th>\n",
       "      <td>&lt;1H OCEAN</td>\n",
       "    </tr>\n",
       "    <tr>\n",
       "      <th>freq</th>\n",
       "      <td>9034</td>\n",
       "    </tr>\n",
       "  </tbody>\n",
       "</table>\n",
       "</div>"
      ],
      "text/plain": [
       "       ocean_proximity\n",
       "count            20433\n",
       "unique               5\n",
       "top          <1H OCEAN\n",
       "freq              9034"
      ]
     },
     "execution_count": 16,
     "metadata": {},
     "output_type": "execute_result"
    }
   ],
   "source": [
    "dataset.describe(include=['object'])"
   ]
  },
  {
   "cell_type": "code",
   "execution_count": 17,
   "id": "c5f7808f",
   "metadata": {},
   "outputs": [
    {
     "data": {
      "text/plain": [
       "<1H OCEAN     9034\n",
       "INLAND        6496\n",
       "NEAR OCEAN    2628\n",
       "NEAR BAY      2270\n",
       "ISLAND           5\n",
       "Name: ocean_proximity, dtype: int64"
      ]
     },
     "execution_count": 17,
     "metadata": {},
     "output_type": "execute_result"
    }
   ],
   "source": [
    "dataset.ocean_proximity.value_counts()"
   ]
  },
  {
   "cell_type": "code",
   "execution_count": 21,
   "id": "7472bbbb",
   "metadata": {},
   "outputs": [
    {
     "data": {
      "image/png": "[encoded data removed]",
      "text/plain": [
       "<Figure size 432x288 with 1 Axes>"
      ]
     },
     "metadata": {
      "needs_background": "light"
     },
     "output_type": "display_data"
    }
   ],
   "source": [
    "sns.histplot(dataset, x='median_house_value');"
   ]
  },
  {
   "cell_type": "code",
   "execution_count": 20,
   "id": "6ce2d20c",
   "metadata": {},
   "outputs": [
    {
     "data": {
      "image/png": "[encoded data removed]",
      "text/plain": [
       "<Figure size 432x288 with 1 Axes>"
      ]
     },
     "metadata": {
      "needs_background": "light"
     },
     "output_type": "display_data"
    }
   ],
   "source": [
    "index_to_drop = dataset[dataset.median_house_value == 500001].index\n",
    "dataset = dataset.drop(index=index_to_drop)\n",
    "sns.histplot(dataset, x='median_house_value');"
   ]
  },
  {
   "cell_type": "code",
   "execution_count": 23,
   "id": "5565d2fe",
   "metadata": {},
   "outputs": [
    {
     "data": {
      "text/html": [
       "<div>\n",
       "<style scoped>\n",
       "    .dataframe tbody tr th:only-of-type {\n",
       "        vertical-align: middle;\n",
       "    }\n",
       "\n",
       "    .dataframe tbody tr th {\n",
       "        vertical-align: top;\n",
       "    }\n",
       "\n",
       "    .dataframe thead th {\n",
       "        text-align: right;\n",
       "    }\n",
       "</style>\n",
       "<table border=\"1\" class=\"dataframe\">\n",
       "  <thead>\n",
       "    <tr style=\"text-align: right;\">\n",
       "      <th></th>\n",
       "      <th>longitude</th>\n",
       "      <th>latitude</th>\n",
       "      <th>housing_median_age</th>\n",
       "      <th>total_rooms</th>\n",
       "      <th>total_bedrooms</th>\n",
       "      <th>population</th>\n",
       "      <th>households</th>\n",
       "      <th>median_income</th>\n",
       "      <th>median_house_value</th>\n",
       "      <th>ocean_proximity_&lt;1H OCEAN</th>\n",
       "      <th>ocean_proximity_INLAND</th>\n",
       "      <th>ocean_proximity_ISLAND</th>\n",
       "      <th>ocean_proximity_NEAR BAY</th>\n",
       "      <th>ocean_proximity_NEAR OCEAN</th>\n",
       "    </tr>\n",
       "  </thead>\n",
       "  <tbody>\n",
       "    <tr>\n",
       "      <th>0</th>\n",
       "      <td>-122.230000</td>\n",
       "      <td>37.880000</td>\n",
       "      <td>41.000000</td>\n",
       "      <td>880.000000</td>\n",
       "      <td>129.000000</td>\n",
       "      <td>322.000000</td>\n",
       "      <td>126.000000</td>\n",
       "      <td>8.325200</td>\n",
       "      <td>452600.000000</td>\n",
       "      <td>0</td>\n",
       "      <td>0</td>\n",
       "      <td>0</td>\n",
       "      <td>1</td>\n",
       "      <td>0</td>\n",
       "    </tr>\n",
       "    <tr>\n",
       "      <th>1</th>\n",
       "      <td>-122.220000</td>\n",
       "      <td>37.860000</td>\n",
       "      <td>21.000000</td>\n",
       "      <td>7099.000000</td>\n",
       "      <td>1106.000000</td>\n",
       "      <td>2401.000000</td>\n",
       "      <td>1138.000000</td>\n",
       "      <td>8.301400</td>\n",
       "      <td>358500.000000</td>\n",
       "      <td>0</td>\n",
       "      <td>0</td>\n",
       "      <td>0</td>\n",
       "      <td>1</td>\n",
       "      <td>0</td>\n",
       "    </tr>\n",
       "    <tr>\n",
       "      <th>2</th>\n",
       "      <td>-122.240000</td>\n",
       "      <td>37.850000</td>\n",
       "      <td>52.000000</td>\n",
       "      <td>1467.000000</td>\n",
       "      <td>190.000000</td>\n",
       "      <td>496.000000</td>\n",
       "      <td>177.000000</td>\n",
       "      <td>7.257400</td>\n",
       "      <td>352100.000000</td>\n",
       "      <td>0</td>\n",
       "      <td>0</td>\n",
       "      <td>0</td>\n",
       "      <td>1</td>\n",
       "      <td>0</td>\n",
       "    </tr>\n",
       "    <tr>\n",
       "      <th>3</th>\n",
       "      <td>-122.250000</td>\n",
       "      <td>37.850000</td>\n",
       "      <td>52.000000</td>\n",
       "      <td>1274.000000</td>\n",
       "      <td>235.000000</td>\n",
       "      <td>558.000000</td>\n",
       "      <td>219.000000</td>\n",
       "      <td>5.643100</td>\n",
       "      <td>341300.000000</td>\n",
       "      <td>0</td>\n",
       "      <td>0</td>\n",
       "      <td>0</td>\n",
       "      <td>1</td>\n",
       "      <td>0</td>\n",
       "    </tr>\n",
       "    <tr>\n",
       "      <th>4</th>\n",
       "      <td>-122.250000</td>\n",
       "      <td>37.850000</td>\n",
       "      <td>52.000000</td>\n",
       "      <td>1627.000000</td>\n",
       "      <td>280.000000</td>\n",
       "      <td>565.000000</td>\n",
       "      <td>259.000000</td>\n",
       "      <td>3.846200</td>\n",
       "      <td>342200.000000</td>\n",
       "      <td>0</td>\n",
       "      <td>0</td>\n",
       "      <td>0</td>\n",
       "      <td>1</td>\n",
       "      <td>0</td>\n",
       "    </tr>\n",
       "  </tbody>\n",
       "</table>\n",
       "</div>"
      ],
      "text/plain": [
       "    longitude  latitude  housing_median_age  total_rooms  total_bedrooms  \\\n",
       "0 -122.230000 37.880000           41.000000   880.000000      129.000000   \n",
       "1 -122.220000 37.860000           21.000000  7099.000000     1106.000000   \n",
       "2 -122.240000 37.850000           52.000000  1467.000000      190.000000   \n",
       "3 -122.250000 37.850000           52.000000  1274.000000      235.000000   \n",
       "4 -122.250000 37.850000           52.000000  1627.000000      280.000000   \n",
       "\n",
       "   population  households  median_income  median_house_value  \\\n",
       "0  322.000000  126.000000       8.325200       452600.000000   \n",
       "1 2401.000000 1138.000000       8.301400       358500.000000   \n",
       "2  496.000000  177.000000       7.257400       352100.000000   \n",
       "3  558.000000  219.000000       5.643100       341300.000000   \n",
       "4  565.000000  259.000000       3.846200       342200.000000   \n",
       "\n",
       "   ocean_proximity_<1H OCEAN  ocean_proximity_INLAND  ocean_proximity_ISLAND  \\\n",
       "0                          0                       0                       0   \n",
       "1                          0                       0                       0   \n",
       "2                          0                       0                       0   \n",
       "3                          0                       0                       0   \n",
       "4                          0                       0                       0   \n",
       "\n",
       "   ocean_proximity_NEAR BAY  ocean_proximity_NEAR OCEAN  \n",
       "0                         1                           0  \n",
       "1                         1                           0  \n",
       "2                         1                           0  \n",
       "3                         1                           0  \n",
       "4                         1                           0  "
      ]
     },
     "execution_count": 23,
     "metadata": {},
     "output_type": "execute_result"
    }
   ],
   "source": [
    "dataset_dummies = pd.get_dummies(dataset)\n",
    "dataset_dummies.head()"
   ]
  },
  {
   "cell_type": "code",
   "execution_count": 24,
   "id": "b7658691",
   "metadata": {},
   "outputs": [
    {
     "name": "stdout",
     "output_type": "stream",
     "text": [
      "train_dataset length: 15580\n",
      "test_dataset length: 3895\n"
     ]
    }
   ],
   "source": [
    "#podział  na zbiór testowy i treningowy\n",
    "train_dataset = dataset_dummies.sample(frac=0.8, random_state=0)\n",
    "test_dataset = dataset_dummies.drop(train_dataset.index)\n",
    "\n",
    "print(f'train_dataset length: {len(train_dataset)}')\n",
    "print(f'test_dataset length: {len(test_dataset)}')"
   ]
  },
  {
   "cell_type": "code",
   "execution_count": 26,
   "id": "926816ee",
   "metadata": {},
   "outputs": [],
   "source": [
    "train_stats = train_dataset.describe()\n",
    "train_stats.pop('median_house_value')\n",
    "train_stats = train_stats.transpose()"
   ]
  },
  {
   "cell_type": "code",
   "execution_count": 27,
   "id": "030cdad7",
   "metadata": {},
   "outputs": [],
   "source": [
    "train_labels = train_dataset.pop('median_house_value')\n",
    "test_labels = test_dataset.pop('median_house_value')"
   ]
  },
  {
   "cell_type": "code",
   "execution_count": 28,
   "id": "1eb922e3",
   "metadata": {},
   "outputs": [],
   "source": [
    "#standaryzacja\n",
    "def norm(x):\n",
    "    return (x - train_stats['mean']) / train_stats['std']"
   ]
  },
  {
   "cell_type": "code",
   "execution_count": 29,
   "id": "75bbe6af",
   "metadata": {},
   "outputs": [],
   "source": [
    "normed_train_data = norm(train_dataset)\n",
    "normed_test_data = norm(test_dataset)"
   ]
  },
  {
   "cell_type": "code",
   "execution_count": 30,
   "id": "350ca6fd",
   "metadata": {},
   "outputs": [
    {
     "data": {
      "text/html": [
       "<div>\n",
       "<style scoped>\n",
       "    .dataframe tbody tr th:only-of-type {\n",
       "        vertical-align: middle;\n",
       "    }\n",
       "\n",
       "    .dataframe tbody tr th {\n",
       "        vertical-align: top;\n",
       "    }\n",
       "\n",
       "    .dataframe thead th {\n",
       "        text-align: right;\n",
       "    }\n",
       "</style>\n",
       "<table border=\"1\" class=\"dataframe\">\n",
       "  <thead>\n",
       "    <tr style=\"text-align: right;\">\n",
       "      <th></th>\n",
       "      <th>longitude</th>\n",
       "      <th>latitude</th>\n",
       "      <th>housing_median_age</th>\n",
       "      <th>total_rooms</th>\n",
       "      <th>total_bedrooms</th>\n",
       "      <th>population</th>\n",
       "      <th>households</th>\n",
       "      <th>median_income</th>\n",
       "      <th>ocean_proximity_&lt;1H OCEAN</th>\n",
       "      <th>ocean_proximity_INLAND</th>\n",
       "      <th>ocean_proximity_ISLAND</th>\n",
       "      <th>ocean_proximity_NEAR BAY</th>\n",
       "      <th>ocean_proximity_NEAR OCEAN</th>\n",
       "    </tr>\n",
       "  </thead>\n",
       "  <tbody>\n",
       "    <tr>\n",
       "      <th>19234</th>\n",
       "      <td>-1.560743</td>\n",
       "      <td>1.332727</td>\n",
       "      <td>-0.838742</td>\n",
       "      <td>0.338845</td>\n",
       "      <td>-0.091639</td>\n",
       "      <td>0.000695</td>\n",
       "      <td>0.012727</td>\n",
       "      <td>1.918729</td>\n",
       "      <td>1.141765</td>\n",
       "      <td>-0.707459</td>\n",
       "      <td>-0.013877</td>\n",
       "      <td>-0.346133</td>\n",
       "      <td>-0.378230</td>\n",
       "    </tr>\n",
       "    <tr>\n",
       "      <th>1859</th>\n",
       "      <td>-2.283490</td>\n",
       "      <td>2.934950</td>\n",
       "      <td>-0.598855</td>\n",
       "      <td>0.034607</td>\n",
       "      <td>0.089751</td>\n",
       "      <td>-0.200934</td>\n",
       "      <td>-0.018438</td>\n",
       "      <td>-0.889913</td>\n",
       "      <td>-0.875781</td>\n",
       "      <td>-0.707459</td>\n",
       "      <td>-0.013877</td>\n",
       "      <td>-0.346133</td>\n",
       "      <td>2.643727</td>\n",
       "    </tr>\n",
       "    <tr>\n",
       "      <th>51</th>\n",
       "      <td>-1.351396</td>\n",
       "      <td>1.011351</td>\n",
       "      <td>1.160315</td>\n",
       "      <td>-0.342501</td>\n",
       "      <td>-0.197646</td>\n",
       "      <td>-0.327599</td>\n",
       "      <td>-0.244389</td>\n",
       "      <td>-1.380585</td>\n",
       "      <td>-0.875781</td>\n",
       "      <td>-0.707459</td>\n",
       "      <td>-0.013877</td>\n",
       "      <td>2.888874</td>\n",
       "      <td>-0.378230</td>\n",
       "    </tr>\n",
       "    <tr>\n",
       "      <th>11192</th>\n",
       "      <td>0.811858</td>\n",
       "      <td>-0.851700</td>\n",
       "      <td>-0.039119</td>\n",
       "      <td>-0.080165</td>\n",
       "      <td>0.035570</td>\n",
       "      <td>0.350532</td>\n",
       "      <td>0.171152</td>\n",
       "      <td>-0.416818</td>\n",
       "      <td>1.141765</td>\n",
       "      <td>-0.707459</td>\n",
       "      <td>-0.013877</td>\n",
       "      <td>-0.346133</td>\n",
       "      <td>-0.378230</td>\n",
       "    </tr>\n",
       "    <tr>\n",
       "      <th>20355</th>\n",
       "      <td>0.298459</td>\n",
       "      <td>-0.679368</td>\n",
       "      <td>-0.998666</td>\n",
       "      <td>-0.370283</td>\n",
       "      <td>-0.456775</td>\n",
       "      <td>-0.736029</td>\n",
       "      <td>-0.532671</td>\n",
       "      <td>-1.077075</td>\n",
       "      <td>1.141765</td>\n",
       "      <td>-0.707459</td>\n",
       "      <td>-0.013877</td>\n",
       "      <td>-0.346133</td>\n",
       "      <td>-0.378230</td>\n",
       "    </tr>\n",
       "  </tbody>\n",
       "</table>\n",
       "</div>"
      ],
      "text/plain": [
       "       longitude  latitude  housing_median_age  total_rooms  total_bedrooms  \\\n",
       "19234  -1.560743  1.332727           -0.838742     0.338845       -0.091639   \n",
       "1859   -2.283490  2.934950           -0.598855     0.034607        0.089751   \n",
       "51     -1.351396  1.011351            1.160315    -0.342501       -0.197646   \n",
       "11192   0.811858 -0.851700           -0.039119    -0.080165        0.035570   \n",
       "20355   0.298459 -0.679368           -0.998666    -0.370283       -0.456775   \n",
       "\n",
       "       population  households  median_income  ocean_proximity_<1H OCEAN  \\\n",
       "19234    0.000695    0.012727       1.918729                   1.141765   \n",
       "1859    -0.200934   -0.018438      -0.889913                  -0.875781   \n",
       "51      -0.327599   -0.244389      -1.380585                  -0.875781   \n",
       "11192    0.350532    0.171152      -0.416818                   1.141765   \n",
       "20355   -0.736029   -0.532671      -1.077075                   1.141765   \n",
       "\n",
       "       ocean_proximity_INLAND  ocean_proximity_ISLAND  \\\n",
       "19234               -0.707459               -0.013877   \n",
       "1859                -0.707459               -0.013877   \n",
       "51                  -0.707459               -0.013877   \n",
       "11192               -0.707459               -0.013877   \n",
       "20355               -0.707459               -0.013877   \n",
       "\n",
       "       ocean_proximity_NEAR BAY  ocean_proximity_NEAR OCEAN  \n",
       "19234                 -0.346133                   -0.378230  \n",
       "1859                  -0.346133                    2.643727  \n",
       "51                     2.888874                   -0.378230  \n",
       "11192                 -0.346133                   -0.378230  \n",
       "20355                 -0.346133                   -0.378230  "
      ]
     },
     "execution_count": 30,
     "metadata": {},
     "output_type": "execute_result"
    }
   ],
   "source": [
    "normed_train_data.head()"
   ]
  },
  {
   "cell_type": "code",
   "execution_count": 31,
   "id": "e6c1d761",
   "metadata": {},
   "outputs": [],
   "source": [
    "normed_test_data = normed_test_data.values\n",
    "normed_train_data = normed_train_data.values"
   ]
  },
  {
   "cell_type": "code",
   "execution_count": 32,
   "id": "091c93f4",
   "metadata": {},
   "outputs": [
    {
     "data": {
      "text/plain": [
       "array([[-1.560743238953,  1.332726839926, -0.838741814943, ..., -0.013877293686, -0.346133368881, -0.378229535826],\n",
       "       [-2.283489512019,  2.934950272896, -0.598854942732, ..., -0.013877293686, -0.346133368881,  2.643727473489],\n",
       "       [-1.351396042617,  1.01135062808 ,  1.16031545348 , ..., -0.013877293686,  2.888874361871, -0.378229535826],\n",
       "       ...,\n",
       "       [ 0.697215807244, -0.79580836027 , -0.279005779784, ..., -0.013877293686, -0.346133368881, -0.378229535826],\n",
       "       [-1.241737987393,  0.913540476649, -0.998666396417, ..., -0.013877293686,  2.888874361871, -0.378229535826],\n",
       "       [ 1.175723684584, -0.702655835098, -0.838741814943, ..., -0.013877293686, -0.346133368881, -0.378229535826]])"
      ]
     },
     "execution_count": 32,
     "metadata": {},
     "output_type": "execute_result"
    }
   ],
   "source": [
    "normed_train_data"
   ]
  },
  {
   "cell_type": "code",
   "execution_count": 33,
   "id": "907f4eaf",
   "metadata": {},
   "outputs": [],
   "source": [
    "#budowa modelu\n",
    "def build_model():\n",
    "    model = Sequential()\n",
    "    model.add(Dense(1024, kernel_regularizer='l2', activation='relu', input_shape=[len(train_dataset.keys())]))\n",
    "    model.add(Dense(512, activation='relu'))\n",
    "    model.add(Dense(128, activation='relu'))\n",
    "    model.add(Dense(1))\n",
    "\n",
    "    model.compile(optimizer='adam',\n",
    "                  loss='mse',\n",
    "                  metrics=['mae', 'mse'])\n",
    "    return model"
   ]
  },
  {
   "cell_type": "code",
   "execution_count": 34,
   "id": "d483789c",
   "metadata": {},
   "outputs": [
    {
     "name": "stdout",
     "output_type": "stream",
     "text": [
      "Model: \"sequential\"\n",
      "_________________________________________________________________\n",
      "Layer (type)                 Output Shape              Param #   \n",
      "=================================================================\n",
      "dense (Dense)                (None, 1024)              14336     \n",
      "_________________________________________________________________\n",
      "dense_1 (Dense)              (None, 512)               524800    \n",
      "_________________________________________________________________\n",
      "dense_2 (Dense)              (None, 128)               65664     \n",
      "_________________________________________________________________\n",
      "dense_3 (Dense)              (None, 1)                 129       \n",
      "=================================================================\n",
      "Total params: 604,929\n",
      "Trainable params: 604,929\n",
      "Non-trainable params: 0\n",
      "_________________________________________________________________\n"
     ]
    }
   ],
   "source": [
    "model = build_model()\n",
    "model.summary()"
   ]
  },
  {
   "cell_type": "code",
   "execution_count": 35,
   "id": "ca28529d",
   "metadata": {},
   "outputs": [
    {
     "name": "stdout",
     "output_type": "stream",
     "text": [
      "Epoch 1/15\n",
      "390/390 [==============================] - 4s 10ms/step - loss: 17503819776.0000 - mae: 96054.7188 - mse: 17503819776.0000 - val_loss: 4544940032.0000 - val_mae: 49313.8594 - val_mse: 4544940032.0000\n",
      "Epoch 2/15\n",
      "390/390 [==============================] - 4s 9ms/step - loss: 4164787712.0000 - mae: 46439.3359 - mse: 4164787712.0000 - val_loss: 3810790912.0000 - val_mae: 45431.8633 - val_mse: 3810790912.0000\n",
      "Epoch 3/15\n",
      "390/390 [==============================] - 3s 8ms/step - loss: 3770508032.0000 - mae: 44037.5703 - mse: 3770508032.0000 - val_loss: 3593819648.0000 - val_mae: 43534.3242 - val_mse: 3593819648.0000\n",
      "Epoch 4/15\n",
      "390/390 [==============================] - 3s 7ms/step - loss: 3631184128.0000 - mae: 43138.3203 - mse: 3631184128.0000 - val_loss: 3490479616.0000 - val_mae: 42335.6289 - val_mse: 3490479616.0000\n",
      "Epoch 5/15\n",
      "390/390 [==============================] - 3s 8ms/step - loss: 3560721408.0000 - mae: 42622.2070 - mse: 3560721408.0000 - val_loss: 3449661952.0000 - val_mae: 41768.6797 - val_mse: 3449661952.0000\n",
      "Epoch 6/15\n",
      "390/390 [==============================] - 3s 8ms/step - loss: 3514241280.0000 - mae: 42225.3047 - mse: 3514241280.0000 - val_loss: 3396816128.0000 - val_mae: 41539.2227 - val_mse: 3396816128.0000\n",
      "Epoch 7/15\n",
      "390/390 [==============================] - 3s 8ms/step - loss: 3482591744.0000 - mae: 42038.4219 - mse: 3482591744.0000 - val_loss: 3418109184.0000 - val_mae: 41338.6016 - val_mse: 3418109184.0000\n",
      "Epoch 8/15\n",
      "390/390 [==============================] - 3s 9ms/step - loss: 3448984064.0000 - mae: 41739.9102 - mse: 3448984064.0000 - val_loss: 3352987648.0000 - val_mae: 41254.4453 - val_mse: 3352987648.0000\n",
      "Epoch 9/15\n",
      "390/390 [==============================] - 3s 9ms/step - loss: 3417913600.0000 - mae: 41453.1797 - mse: 3417913600.0000 - val_loss: 3319436544.0000 - val_mae: 41392.9492 - val_mse: 3319436544.0000\n",
      "Epoch 10/15\n",
      "390/390 [==============================] - 4s 11ms/step - loss: 3422441728.0000 - mae: 41543.4688 - mse: 3422441728.0000 - val_loss: 3304246272.0000 - val_mae: 41053.5078 - val_mse: 3304246272.0000\n",
      "Epoch 11/15\n",
      "390/390 [==============================] - 4s 9ms/step - loss: 3387052544.0000 - mae: 41278.7383 - mse: 3387052544.0000 - val_loss: 3305847808.0000 - val_mae: 41197.3516 - val_mse: 3305847808.0000\n",
      "Epoch 12/15\n",
      "390/390 [==============================] - 3s 8ms/step - loss: 3387461120.0000 - mae: 41230.0352 - mse: 3387461120.0000 - val_loss: 3307659520.0000 - val_mae: 40978.4648 - val_mse: 3307659520.0000\n",
      "Epoch 13/15\n",
      "390/390 [==============================] - 3s 8ms/step - loss: 3360192768.0000 - mae: 41143.2969 - mse: 3360192768.0000 - val_loss: 3298768640.0000 - val_mae: 40674.6406 - val_mse: 3298768640.0000\n",
      "Epoch 14/15\n",
      "390/390 [==============================] - 3s 8ms/step - loss: 3349035008.0000 - mae: 41063.2617 - mse: 3349035008.0000 - val_loss: 3313779712.0000 - val_mae: 40702.0938 - val_mse: 3313779712.0000\n",
      "Epoch 15/15\n",
      "390/390 [==============================] - 3s 9ms/step - loss: 3353867520.0000 - mae: 40910.2383 - mse: 3353867520.0000 - val_loss: 3263535872.0000 - val_mae: 40743.2031 - val_mse: 3263535872.0000: 3338965248.0000 - mae: 409\n"
     ]
    }
   ],
   "source": [
    "history = model.fit(normed_train_data, train_labels.values, epochs=15, validation_split=0.2, verbose=1, batch_size=32)"
   ]
  },
  {
   "cell_type": "code",
   "execution_count": 37,
   "id": "5233cb3a",
   "metadata": {},
   "outputs": [
    {
     "data": {
      "text/plain": [
       "array([242773.12 , 206758.55 , 204480.2  , ...,  98835.125, 117032.71 ,  68138.305], dtype=float32)"
      ]
     },
     "execution_count": 37,
     "metadata": {},
     "output_type": "execute_result"
    }
   ],
   "source": [
    "test_predictions = model.predict(normed_test_data).flatten()\n",
    "test_predictions"
   ]
  },
  {
   "cell_type": "code",
   "execution_count": 38,
   "id": "ced3f928",
   "metadata": {},
   "outputs": [
    {
     "data": {
      "text/html": [
       "<div>\n",
       "<style scoped>\n",
       "    .dataframe tbody tr th:only-of-type {\n",
       "        vertical-align: middle;\n",
       "    }\n",
       "\n",
       "    .dataframe tbody tr th {\n",
       "        vertical-align: top;\n",
       "    }\n",
       "\n",
       "    .dataframe thead th {\n",
       "        text-align: right;\n",
       "    }\n",
       "</style>\n",
       "<table border=\"1\" class=\"dataframe\">\n",
       "  <thead>\n",
       "    <tr style=\"text-align: right;\">\n",
       "      <th></th>\n",
       "      <th>median_house_value</th>\n",
       "      <th>predictions</th>\n",
       "    </tr>\n",
       "  </thead>\n",
       "  <tbody>\n",
       "    <tr>\n",
       "      <th>10</th>\n",
       "      <td>281500.000000</td>\n",
       "      <td>242773.125000</td>\n",
       "    </tr>\n",
       "    <tr>\n",
       "      <th>13</th>\n",
       "      <td>191300.000000</td>\n",
       "      <td>206758.546875</td>\n",
       "    </tr>\n",
       "    <tr>\n",
       "      <th>19</th>\n",
       "      <td>162900.000000</td>\n",
       "      <td>204480.203125</td>\n",
       "    </tr>\n",
       "    <tr>\n",
       "      <th>26</th>\n",
       "      <td>93800.000000</td>\n",
       "      <td>187066.046875</td>\n",
       "    </tr>\n",
       "    <tr>\n",
       "      <th>40</th>\n",
       "      <td>155400.000000</td>\n",
       "      <td>188891.234375</td>\n",
       "    </tr>\n",
       "  </tbody>\n",
       "</table>\n",
       "</div>"
      ],
      "text/plain": [
       "    median_house_value   predictions\n",
       "10       281500.000000 242773.125000\n",
       "13       191300.000000 206758.546875\n",
       "19       162900.000000 204480.203125\n",
       "26        93800.000000 187066.046875\n",
       "40       155400.000000 188891.234375"
      ]
     },
     "execution_count": 38,
     "metadata": {},
     "output_type": "execute_result"
    }
   ],
   "source": [
    "pred = pd.DataFrame(test_labels)\n",
    "pred['predictions'] = test_predictions\n",
    "pred.head()"
   ]
  },
  {
   "cell_type": "code",
   "execution_count": 39,
   "id": "57417259",
   "metadata": {},
   "outputs": [
    {
     "data": {
      "image/png": "[encoded data removed]",
      "text/plain": [
       "<Figure size 432x288 with 1 Axes>"
      ]
     },
     "metadata": {
      "needs_background": "light"
     },
     "output_type": "display_data"
    }
   ],
   "source": [
    "sns.scatterplot(data=pred, x='median_house_value', y='predictions');"
   ]
  },
  {
   "cell_type": "code",
   "execution_count": 40,
   "id": "1fb385ae",
   "metadata": {},
   "outputs": [
    {
     "data": {
      "text/html": [
       "<div>\n",
       "<style scoped>\n",
       "    .dataframe tbody tr th:only-of-type {\n",
       "        vertical-align: middle;\n",
       "    }\n",
       "\n",
       "    .dataframe tbody tr th {\n",
       "        vertical-align: top;\n",
       "    }\n",
       "\n",
       "    .dataframe thead th {\n",
       "        text-align: right;\n",
       "    }\n",
       "</style>\n",
       "<table border=\"1\" class=\"dataframe\">\n",
       "  <thead>\n",
       "    <tr style=\"text-align: right;\">\n",
       "      <th></th>\n",
       "      <th>median_house_value</th>\n",
       "      <th>predictions</th>\n",
       "      <th>error</th>\n",
       "    </tr>\n",
       "  </thead>\n",
       "  <tbody>\n",
       "    <tr>\n",
       "      <th>10</th>\n",
       "      <td>281500.000000</td>\n",
       "      <td>242773.125000</td>\n",
       "      <td>38726.875000</td>\n",
       "    </tr>\n",
       "    <tr>\n",
       "      <th>13</th>\n",
       "      <td>191300.000000</td>\n",
       "      <td>206758.546875</td>\n",
       "      <td>-15458.546875</td>\n",
       "    </tr>\n",
       "    <tr>\n",
       "      <th>19</th>\n",
       "      <td>162900.000000</td>\n",
       "      <td>204480.203125</td>\n",
       "      <td>-41580.203125</td>\n",
       "    </tr>\n",
       "    <tr>\n",
       "      <th>26</th>\n",
       "      <td>93800.000000</td>\n",
       "      <td>187066.046875</td>\n",
       "      <td>-93266.046875</td>\n",
       "    </tr>\n",
       "    <tr>\n",
       "      <th>40</th>\n",
       "      <td>155400.000000</td>\n",
       "      <td>188891.234375</td>\n",
       "      <td>-33491.234375</td>\n",
       "    </tr>\n",
       "  </tbody>\n",
       "</table>\n",
       "</div>"
      ],
      "text/plain": [
       "    median_house_value   predictions         error\n",
       "10       281500.000000 242773.125000  38726.875000\n",
       "13       191300.000000 206758.546875 -15458.546875\n",
       "19       162900.000000 204480.203125 -41580.203125\n",
       "26        93800.000000 187066.046875 -93266.046875\n",
       "40       155400.000000 188891.234375 -33491.234375"
      ]
     },
     "execution_count": 40,
     "metadata": {},
     "output_type": "execute_result"
    }
   ],
   "source": [
    "pred['error'] = pred['median_house_value'] - pred['predictions']\n",
    "pred.head()"
   ]
  },
  {
   "cell_type": "code",
   "execution_count": 44,
   "id": "260630b0",
   "metadata": {},
   "outputs": [
    {
     "data": {
      "image/png": "[encoded data removed]",
      "text/plain": [
       "<Figure size 432x288 with 1 Axes>"
      ]
     },
     "metadata": {
      "needs_background": "light"
     },
     "output_type": "display_data"
    }
   ],
   "source": [
    "sns.histplot(pred, x='error');"
   ]
  },
  {
   "cell_type": "code",
   "execution_count": null,
   "id": "ab8540d4",
   "metadata": {},
   "outputs": [],
   "source": []
  }
 ],
 "metadata": {
  "kernelspec": {
   "display_name": "Python 3",
   "language": "python",
   "name": "python3"
  },
  "language_info": {
   "codemirror_mode": {
    "name": "ipython",
    "version": 3
   },
   "file_extension": ".py",
   "mimetype": "text/x-python",
   "name": "python",
   "nbconvert_exporter": "python",
   "pygments_lexer": "ipython3",
   "version": "3.8.10"
  }
 },
 "nbformat": 4,
 "nbformat_minor": 5
}
